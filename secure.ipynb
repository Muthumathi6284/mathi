{
 "cells": [
  {
   "cell_type": "code",
   "execution_count": null,
   "id": "b1ca50b4",
   "metadata": {},
   "outputs": [],
   "source": [
    "!pip install pandas\n",
    "!pip install streamlit\n",
    "!pip install matplotlib\n",
    "!pip install seaborn"
   ]
  },
  {
   "cell_type": "code",
   "execution_count": 8,
   "id": "eabf59f9",
   "metadata": {},
   "outputs": [],
   "source": [
    "import pandas as pd\n",
    "import datetime\n",
    "import matplotlib.pyplot as plt\n",
    "import seaborn as sns"
   ]
  },
  {
   "cell_type": "code",
   "execution_count": null,
   "id": "26f81cea",
   "metadata": {},
   "outputs": [],
   "source": [
    "# import data from CSV File\n",
    "path=pd.read_csv(\"C:/Users/Hp/Downloads/traffic_stops - traffic_stops_with_vehicle_number.csv\",low_memory=False)\n",
    "df=pd.DataFrame(path)"
   ]
  },
  {
   "cell_type": "code",
   "execution_count": null,
   "id": "19f1cd61",
   "metadata": {},
   "outputs": [],
   "source": [
    "# Find and Remove the Missing Values\n",
    "df.dropna(axis=1,how='all',inplace=True)"
   ]
  },
  {
   "cell_type": "code",
   "execution_count": null,
   "id": "2716d1e8",
   "metadata": {},
   "outputs": [],
   "source": [
    "# Remove unwanted columns\n",
    "df.drop('driver_age_raw',axis=1,inplace=True)\n",
    "df.drop('violation_raw',axis=1,inplace=True)"
   ]
  },
  {
   "cell_type": "code",
   "execution_count": null,
   "id": "4da8a0e0",
   "metadata": {},
   "outputs": [],
   "source": [
    "#convert date& time from object to date & time \n",
    "df['stop_date']=pd.to_datetime(df['stop_date'], format='%Y-%m-%d')\n",
    "df['stop_time']=pd.to_datetime(df['stop_time'], format='%H:%M:%S')"
   ]
  },
  {
   "cell_type": "code",
   "execution_count": null,
   "id": "b4dfff06",
   "metadata": {},
   "outputs": [],
   "source": [
    "# replace NAN values\n",
    "df.fillna({\n",
    "    'search_type':'none'\n",
    "},inplace=True)"
   ]
  },
  {
   "cell_type": "code",
   "execution_count": null,
   "id": "dc011047",
   "metadata": {},
   "outputs": [],
   "source": [
    "# Import MY SQL \n",
    "!pip install mysql-connector-python"
   ]
  },
  {
   "cell_type": "code",
   "execution_count": 4,
   "id": "0cb9ffd5",
   "metadata": {},
   "outputs": [],
   "source": [
    "# Inialize SQL Connection\n",
    "import mysql.connector\n",
    "mydb = mysql.connector.connect(\n",
    " host=\"localhost\",\n",
    " user=\"root\",\n",
    " password=\"\",\n",
    " database=\"secure\"\n",
    ")\n",
    "mycursor = mydb.cursor(buffered=True)"
   ]
  },
  {
   "cell_type": "code",
   "execution_count": 13,
   "id": "31da57ee",
   "metadata": {},
   "outputs": [],
   "source": [
    "# Create New Database\n",
    "mycursor.execute(\"create database secure\")"
   ]
  },
  {
   "cell_type": "code",
   "execution_count": 3,
   "id": "61aa928e",
   "metadata": {},
   "outputs": [],
   "source": [
    "# use database\n",
    "mycursor.execute('USE secure')\n",
    "mydb.commit()"
   ]
  },
  {
   "cell_type": "code",
   "execution_count": 18,
   "id": "f46d6457",
   "metadata": {},
   "outputs": [],
   "source": [
    "# Table creation\n",
    "mycursor.execute(\"\"\"create table secure.check(\n",
    "ID int Auto_increment primary key,\n",
    "stop_date date,\n",
    "stop_time time,\n",
    "country_name varchar(50),\n",
    "driver_gender varchar(10),\n",
    "driver_age int,\n",
    "driver_race varchar(50),\n",
    "violation varchar(100),\n",
    "search_conducted boolean,\n",
    "search_type varchar(100),\n",
    "stop_outcome varchar(100),\n",
    "is_arrested boolean,\n",
    "stop_duration varchar(50),\n",
    "drugs_related_stop boolean,\n",
    "vehicle_number varchar(50))\"\"\")"
   ]
  },
  {
   "cell_type": "code",
   "execution_count": null,
   "id": "0cdb0877",
   "metadata": {},
   "outputs": [],
   "source": [
    "#insert police ledger data into SQL Table\n",
    "for _, row in df.iterrows():\n",
    "    mycursor.execute(\"\"\"insert into secure.check(stop_date,stop_time,country_name,\n",
    "driver_gender,driver_age,driver_race,violation,search_conducted,search_type,\n",
    "stop_outcome,is_arrested,stop_duration,drugs_related_stop,vehicle_number)\n",
    "values(%s,%s,%s,%s,%s,%s,%s,%s,%s,%s,%s,%s,%s,%s)\"\"\",(\n",
    "        row['stop_date'], row['stop_time'], row['country_name'], row['driver_gender'], row['driver_age'],\n",
    "        row['driver_race'], row['violation'], row['search_conducted'], row['search_type'], row['stop_outcome'],\n",
    "        row['is_arrested'], row['stop_duration'], row['drugs_related_stop'], row['vehicle_number']\n",
    "    ))\n",
    "    mydb.commit()"
   ]
  }
 ],
 "metadata": {
  "kernelspec": {
   "display_name": ".venv",
   "language": "python",
   "name": "python3"
  },
  "language_info": {
   "codemirror_mode": {
    "name": "ipython",
    "version": 3
   },
   "file_extension": ".py",
   "mimetype": "text/x-python",
   "name": "python",
   "nbconvert_exporter": "python",
   "pygments_lexer": "ipython3",
   "version": "3.13.3"
  }
 },
 "nbformat": 4,
 "nbformat_minor": 5
}
